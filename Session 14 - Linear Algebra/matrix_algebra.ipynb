{
 "cells": [
  {
   "cell_type": "code",
   "execution_count": 2,
   "id": "c4039191-bcff-4b01-93cb-f85f6f6e8995",
   "metadata": {
    "tags": []
   },
   "outputs": [
    {
     "name": "stdout",
     "output_type": "stream",
     "text": [
      "Type of a is ndarray\n",
      "Number of dimensions of a = 2\n",
      "Shape of dimensions of a = (2, 3)\n",
      "Length of a = 2\n",
      "Size of a = 6\n"
     ]
    },
    {
     "data": {
      "text/latex": [
       "$\\displaystyle \\mathbf{A}=\\begin{bmatrix}4 &5 &8\\\\[1em]1 &9 &7\\\\\\end{bmatrix}$"
      ],
      "text/plain": [
       "<IPython.core.display.Math object>"
      ]
     },
     "metadata": {},
     "output_type": "display_data"
    },
    {
     "name": "stdout",
     "output_type": "stream",
     "text": [
      "Type of b is ndarray\n",
      "Number of dimensions of b = 2\n",
      "Shape of dimensions of b = (3, 2)\n",
      "Length of b = 3\n",
      "Size of b = 6\n"
     ]
    },
    {
     "data": {
      "text/latex": [
       "$\\displaystyle \\mathbf{B}=\\begin{bmatrix}2 &4\\\\[1em]6 &1\\\\[1em]5 &9\\\\\\end{bmatrix}$"
      ],
      "text/plain": [
       "<IPython.core.display.Math object>"
      ]
     },
     "metadata": {},
     "output_type": "display_data"
    }
   ],
   "source": [
    "# matrix_algebra.ipynb\n",
    "\n",
    "# Cell 1 - Create matrices A and B\n",
    "\n",
    "import numpy as np\n",
    "from qis102_utils import as_latex\n",
    "\n",
    "\n",
    "def print_ndarray_info(name, a):\n",
    "    print(f\"Type of {name} is {type(a).__name__}\")\n",
    "    print(f\"Number of dimensions of {name} = {a.ndim}\")\n",
    "    print(f\"Shape of dimensions of {name} = {a.shape}\")\n",
    "    print(f\"Length of {name} = {len(a)}\")\n",
    "    print(f\"Size of {name} = {a.size}\")\n",
    "\n",
    "\n",
    "a = np.array([[4, 5, 8], [1, 9, 7]])\n",
    "b = np.array([[2, 4], [6, 1], [5, 9]])\n",
    "\n",
    "print_ndarray_info(\"a\", a)\n",
    "display(as_latex(a, prefix=r\"\\mathbf{A}=\"))\n",
    "\n",
    "print_ndarray_info(\"b\", b)\n",
    "display(as_latex(b, prefix=r\"\\mathbf{B}=\"))"
   ]
  },
  {
   "cell_type": "code",
   "execution_count": 3,
   "id": "61c5e5af-0340-4863-ae32-a16f58b12713",
   "metadata": {
    "tags": []
   },
   "outputs": [
    {
     "data": {
      "text/latex": [
       "$\\displaystyle \\mathbf{A\\cdot B}=\\begin{bmatrix}78 &93\\\\[1em]91 &76\\\\\\end{bmatrix}$"
      ],
      "text/plain": [
       "<IPython.core.display.Math object>"
      ]
     },
     "metadata": {},
     "output_type": "display_data"
    }
   ],
   "source": [
    "# Cell 2 - Calculate A ⋅ B\n",
    "\n",
    "c = np.matmul(a, b)\n",
    "display(as_latex(c, prefix=r\"\\mathbf{A\\cdot B}=\"))"
   ]
  },
  {
   "cell_type": "code",
   "execution_count": 4,
   "id": "fbe91520-3b43-4723-863c-a32a466880f5",
   "metadata": {
    "tags": []
   },
   "outputs": [
    {
     "data": {
      "text/latex": [
       "$\\displaystyle \\mathbf{B\\cdot A}=\\begin{bmatrix}12 &46 &44\\\\[1em]25 &39 &55\\\\[1em]29 &106 &103\\\\\\end{bmatrix}$"
      ],
      "text/plain": [
       "<IPython.core.display.Math object>"
      ]
     },
     "metadata": {},
     "output_type": "display_data"
    }
   ],
   "source": [
    "# Cell 3 - Calculate B ⋅ A\n",
    "\n",
    "c = np.matmul(b, a)\n",
    "display(as_latex(c, prefix=r\"\\mathbf{B\\cdot A}=\"))"
   ]
  },
  {
   "cell_type": "code",
   "execution_count": 5,
   "id": "051a0f29-c672-4c65-95cc-b9e7dabbf034",
   "metadata": {
    "tags": []
   },
   "outputs": [
    {
     "data": {
      "text/latex": [
       "$\\displaystyle \\mathbf{A}=\\begin{bmatrix}4 &5 &8\\\\[1em]1 &9 &7\\\\[1em]0 &0 &0\\\\\\end{bmatrix}$"
      ],
      "text/plain": [
       "<IPython.core.display.Math object>"
      ]
     },
     "metadata": {},
     "output_type": "display_data"
    },
    {
     "data": {
      "text/latex": [
       "$\\displaystyle \\mathbf{B}=\\begin{bmatrix}2 &4\\\\[1em]6 &1\\\\[1em]5 &9\\\\\\end{bmatrix}$"
      ],
      "text/plain": [
       "<IPython.core.display.Math object>"
      ]
     },
     "metadata": {},
     "output_type": "display_data"
    },
    {
     "ename": "ValueError",
     "evalue": "matmul: Input operand 1 has a mismatch in its core dimension 0, with gufunc signature (n?,k),(k,m?)->(n?,m?) (size 3 is different from 2)",
     "output_type": "error",
     "traceback": [
      "\u001b[1;31m---------------------------------------------------------------------------\u001b[0m",
      "\u001b[1;31mValueError\u001b[0m                                Traceback (most recent call last)",
      "Cell \u001b[1;32mIn[5], line 8\u001b[0m\n\u001b[0;32m      5\u001b[0m display(as_latex(a, prefix\u001b[38;5;241m=\u001b[39m\u001b[38;5;124mr\u001b[39m\u001b[38;5;124m\"\u001b[39m\u001b[38;5;124m\\\u001b[39m\u001b[38;5;124mmathbf\u001b[39m\u001b[38;5;132;01m{A}\u001b[39;00m\u001b[38;5;124m=\u001b[39m\u001b[38;5;124m\"\u001b[39m))\n\u001b[0;32m      6\u001b[0m display(as_latex(b, prefix\u001b[38;5;241m=\u001b[39m\u001b[38;5;124mr\u001b[39m\u001b[38;5;124m\"\u001b[39m\u001b[38;5;124m\\\u001b[39m\u001b[38;5;124mmathbf\u001b[39m\u001b[38;5;132;01m{B}\u001b[39;00m\u001b[38;5;124m=\u001b[39m\u001b[38;5;124m\"\u001b[39m))\n\u001b[1;32m----> 8\u001b[0m c \u001b[38;5;241m=\u001b[39m \u001b[43mnp\u001b[49m\u001b[38;5;241;43m.\u001b[39;49m\u001b[43mmatmul\u001b[49m\u001b[43m(\u001b[49m\u001b[43mb\u001b[49m\u001b[43m,\u001b[49m\u001b[43m \u001b[49m\u001b[43ma\u001b[49m\u001b[43m)\u001b[49m\n",
      "\u001b[1;31mValueError\u001b[0m: matmul: Input operand 1 has a mismatch in its core dimension 0, with gufunc signature (n?,k),(k,m?)->(n?,m?) (size 3 is different from 2)"
     ]
    }
   ],
   "source": [
    "# Cell 4 - Create new matrix A and calculate B ⋅ A\n",
    "\n",
    "a = np.array([[4, 5, 8], [1, 9, 7], [0, 0, 0]])\n",
    "\n",
    "display(as_latex(a, prefix=r\"\\mathbf{A}=\"))\n",
    "display(as_latex(b, prefix=r\"\\mathbf{B}=\"))\n",
    "\n",
    "c = np.matmul(b, a)"
   ]
  },
  {
   "cell_type": "code",
   "execution_count": 6,
   "id": "bd31059c-68b6-4d94-afee-9b3d9c5e2a11",
   "metadata": {
    "tags": []
   },
   "outputs": [
    {
     "data": {
      "text/latex": [
       "$\\displaystyle \\mathbf{A}=\\begin{bmatrix}8 &3\\\\[1em]4 &2\\\\\\end{bmatrix}$"
      ],
      "text/plain": [
       "<IPython.core.display.Math object>"
      ]
     },
     "metadata": {},
     "output_type": "display_data"
    },
    {
     "data": {
      "text/latex": [
       "$\\displaystyle |A|=3.999999999999999$"
      ],
      "text/plain": [
       "<IPython.core.display.Math object>"
      ]
     },
     "metadata": {},
     "output_type": "display_data"
    },
    {
     "data": {
      "text/latex": [
       "$\\displaystyle |A|=4.0$"
      ],
      "text/plain": [
       "<IPython.core.display.Math object>"
      ]
     },
     "metadata": {},
     "output_type": "display_data"
    }
   ],
   "source": [
    "# Cell 5 - Create new matrix A and calculate its determinant\n",
    "\n",
    "from IPython.core.display import Math\n",
    "\n",
    "a = np.array([[8, 3], [4, 2]])\n",
    "display(as_latex(a, prefix=r\"\\mathbf{A}=\"))\n",
    "\n",
    "display(Math(rf\"|A|={np.linalg.det(a)}\"))\n",
    "display(Math(rf\"|A|={np.round(np.linalg.det(a), 10)}\"))"
   ]
  },
  {
   "cell_type": "code",
   "execution_count": 7,
   "id": "fd99e63a-2279-4d23-a2d7-65d81b89b2b9",
   "metadata": {
    "tags": []
   },
   "outputs": [
    {
     "data": {
      "text/latex": [
       "$\\displaystyle \\mathbf{A}=\\begin{bmatrix}3 &4 &9 &8 &-5 &-2 &2 &7 &7 &4\\\\[1em]6 &-10 &-10 &-10 &-6 &-10 &1 &0 &-4 &-5\\\\[1em]-4 &-4 &-4 &8 &-5 &9 &4 &0 &-4 &9\\\\[1em]-4 &6 &-5 &8 &0 &3 &1 &-4 &-6 &-6\\\\[1em]-6 &-9 &9 &9 &-2 &9 &-5 &-2 &-2 &-3\\\\[1em]-8 &0 &0 &0 &10 &-3 &5 &0 &-4 &9\\\\[1em]8 &4 &8 &-9 &4 &8 &-6 &1 &9 &2\\\\[1em]2 &1 &-1 &4 &-6 &-10 &1 &-6 &6 &7\\\\[1em]-6 &-5 &4 &-6 &-5 &-6 &-10 &-1 &-2 &7\\\\[1em]1 &10 &-10 &-4 &-8 &7 &5 &-1 &6 &-6\\\\\\end{bmatrix}$"
      ],
      "text/plain": [
       "<IPython.core.display.Math object>"
      ]
     },
     "metadata": {},
     "output_type": "display_data"
    },
    {
     "data": {
      "text/latex": [
       "$\\displaystyle |A|=-47,189,795,115.99997$"
      ],
      "text/plain": [
       "<IPython.core.display.Math object>"
      ]
     },
     "metadata": {},
     "output_type": "display_data"
    },
    {
     "data": {
      "text/latex": [
       "$\\displaystyle |A|=-47,189,795,116$"
      ],
      "text/plain": [
       "<IPython.core.display.Math object>"
      ]
     },
     "metadata": {},
     "output_type": "display_data"
    }
   ],
   "source": [
    "# Cell 6 - Create a larger matrix A and calculate its determinant\n",
    "\n",
    "a = np.array(\n",
    "    [\n",
    "        [3, 4, 9, 8, -5, -2, 2, 7, 7, 4],\n",
    "        [6, -10, -10, -10, -6, -10, 1, 0, -4, -5],\n",
    "        [-4, -4, -4, 8, -5, 9, 4, 0, -4, 9],\n",
    "        [-4, 6, -5, 8, 0, 3, 1, -4, -6, -6],\n",
    "        [-6, -9, 9, 9, -2, 9, -5, -2, -2, -3],\n",
    "        [-8, 0, 0, 0, 10, -3, 5, 0, -4, 9],\n",
    "        [8, 4, 8, -9, 4, 8, -6, 1, 9, 2],\n",
    "        [2, 1, -1, 4, -6, -10, 1, -6, 6, 7],\n",
    "        [-6, -5, 4, -6, -5, -6, -10, -1, -2, 7],\n",
    "        [1, 10, -10, -4, -8, 7, 5, -1, 6, -6],\n",
    "    ]\n",
    ")\n",
    "\n",
    "display(as_latex(a, prefix=r\"\\mathbf{A}=\"))\n",
    "\n",
    "display(Math(rf\"|A|={np.linalg.det(a):,}\"))\n",
    "display(Math(rf\"|A|={np.linalg.det(a):,.0f}\"))"
   ]
  },
  {
   "cell_type": "code",
   "execution_count": 8,
   "id": "25ee7830-ff20-44ab-ab90-c0b4a5981973",
   "metadata": {
    "tags": []
   },
   "outputs": [
    {
     "data": {
      "text/latex": [
       "$\\displaystyle \\mathbf{Coeffs}=\\begin{bmatrix}4 &5 &-2\\\\[1em]7 &-1 &2\\\\[1em]3 &1 &4\\\\\\end{bmatrix}$"
      ],
      "text/plain": [
       "<IPython.core.display.Math object>"
      ]
     },
     "metadata": {},
     "output_type": "display_data"
    },
    {
     "data": {
      "text/latex": [
       "$\\displaystyle \\mathbf{Vals}=\\begin{bmatrix}-14\\\\[1em]42\\\\[1em]28\\\\\\end{bmatrix}$"
      ],
      "text/plain": [
       "<IPython.core.display.Math object>"
      ]
     },
     "metadata": {},
     "output_type": "display_data"
    }
   ],
   "source": [
    "# Cell 7 - Create a Coefficients Matrix and a Value Vector\n",
    "\n",
    "coeffs = np.array([[4, 5, -2], [7, -1, 2], [3, 1, 4]])\n",
    "vals = np.array([-14, 42, 28])\n",
    "\n",
    "display(as_latex(coeffs, prefix=r\"\\mathbf{Coeffs}=\"))\n",
    "display(as_latex(vals, column=True, prefix=r\"\\mathbf{Vals}=\"))"
   ]
  },
  {
   "cell_type": "code",
   "execution_count": 9,
   "id": "310b226e-c9c9-4f37-9068-298c601065c2",
   "metadata": {
    "tags": []
   },
   "outputs": [
    {
     "data": {
      "text/latex": [
       "$\\displaystyle x=4$"
      ],
      "text/plain": [
       "<IPython.core.display.Math object>"
      ]
     },
     "metadata": {},
     "output_type": "display_data"
    },
    {
     "data": {
      "text/latex": [
       "$\\displaystyle y=-4$"
      ],
      "text/plain": [
       "<IPython.core.display.Math object>"
      ]
     },
     "metadata": {},
     "output_type": "display_data"
    },
    {
     "data": {
      "text/latex": [
       "$\\displaystyle z=5$"
      ],
      "text/plain": [
       "<IPython.core.display.Math object>"
      ]
     },
     "metadata": {},
     "output_type": "display_data"
    }
   ],
   "source": [
    "# Cell 8 - Solve the equations using Cramer's Rule\n",
    "\n",
    "# Create a copy of the coefficients matrix for each unknown\n",
    "xa = np.copy(coeffs)\n",
    "ya = np.copy(coeffs)\n",
    "za = np.copy(coeffs)\n",
    "\n",
    "# Overlay the value vector on a column in each unknown's matrix\n",
    "xa[:, 0] = vals\n",
    "ya[:, 1] = vals\n",
    "za[:, 2] = vals\n",
    "\n",
    "# Calculate determinant of coefficients matrix\n",
    "det_coeffs = np.linalg.det(coeffs)\n",
    "\n",
    "# Use Cramer's rule to solve 3 x 3 system of linear equations\n",
    "x = np.linalg.det(xa) / det_coeffs\n",
    "y = np.linalg.det(ya) / det_coeffs\n",
    "z = np.linalg.det(za) / det_coeffs\n",
    "\n",
    "display(Math(rf\"x={x:,.0f}\"))\n",
    "display(Math(rf\"y={y:,.0f}\"))\n",
    "display(Math(rf\"z={z:,.0f}\"))"
   ]
  },
  {
   "cell_type": "code",
   "execution_count": 10,
   "id": "b3d40842-483f-49ca-99b5-ebdd1b8602ee",
   "metadata": {
    "tags": []
   },
   "outputs": [
    {
     "data": {
      "text/latex": [
       "$\\displaystyle \\begin{bmatrix}4\\\\[1em]-4\\\\[1em]5\\\\\\end{bmatrix}$"
      ],
      "text/plain": [
       "<IPython.core.display.Math object>"
      ]
     },
     "metadata": {},
     "output_type": "display_data"
    }
   ],
   "source": [
    "# Cell 9 - Use numpy's linear algebra solver\n",
    "\n",
    "sol = np.linalg.solve(coeffs, vals)\n",
    "display(as_latex(sol, column=True))"
   ]
  }
 ],
 "metadata": {
  "kernelspec": {
   "display_name": "Python 3 (ipykernel)",
   "language": "python",
   "name": "python3"
  },
  "language_info": {
   "codemirror_mode": {
    "name": "ipython",
    "version": 3
   },
   "file_extension": ".py",
   "mimetype": "text/x-python",
   "name": "python",
   "nbconvert_exporter": "python",
   "pygments_lexer": "ipython3",
   "version": "3.12.3"
  }
 },
 "nbformat": 4,
 "nbformat_minor": 5
}
